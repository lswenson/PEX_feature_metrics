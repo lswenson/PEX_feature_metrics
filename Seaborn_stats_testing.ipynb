{
 "cells": [
  {
   "cell_type": "code",
   "execution_count": 1,
   "id": "d2f24d03-1f4f-4790-94fe-6b21f54ba37f",
   "metadata": {},
   "outputs": [],
   "source": [
    "import xarray as xr\n",
    "import numpy as np\n",
    "import seaborn as sns\n",
    "from tqdm import tqdm\n",
    "import pandas as pd"
   ]
  },
  {
   "cell_type": "code",
   "execution_count": null,
   "id": "7a34c716-dc5a-4807-aaca-fc2991ec74a9",
   "metadata": {},
   "outputs": [
    {
     "name": "stderr",
     "output_type": "stream",
     "text": [
      " 43%|█████████████████████████████████████████▌                                                       | 3/7 [03:50<04:17, 64.44s/it]"
     ]
    }
   ],
   "source": [
    "region = 4\n",
    "seasons = ['DJF','MAM','JJA','SON']\n",
    "\n",
    "for region in tqdm([1,2,3,4,5,6,7]):\n",
    "    for season in [0,1,2,3]:\n",
    "        path = './DistBySeason/MetricScores_CapeVrtFrt_Region'+str(region)+'_'+seasons[season]+'.nc'\n",
    "        data = xr.open_dataset(path)\n",
    "        cape = data['cape']\n",
    "        vrt = data['vrt']\n",
    "        frt = data['frt']\n",
    "\n",
    "        df1 = pd.DataFrame({'cape':cape.values,'vrt':vrt.values,'frt':frt.values})\n",
    "\n",
    "        sns.set_theme(style=\"white\")\n",
    "\n",
    "        g = sns.PairGrid(df1, diag_sharey=False)\n",
    "        g.map_upper(sns.scatterplot, s=15)\n",
    "        g.map_lower(sns.kdeplot)\n",
    "        g.map_diag(sns.kdeplot, lw=2)\n",
    "        g.fig.suptitle('Region '+str(region)+' | '+seasons[season])\n",
    "        g.fig.savefig('./Figures/Region'+str(region)+'_'+seasons[season]+'_PairGrid.png')\n",
    "        del g"
   ]
  },
  {
   "cell_type": "code",
   "execution_count": 12,
   "id": "4a45dd9e-2ad9-44ad-aac1-7e806a212a45",
   "metadata": {},
   "outputs": [
    {
     "data": {
      "text/plain": [
       "<seaborn.axisgrid.PairGrid at 0x1714b3c70>"
      ]
     },
     "execution_count": 12,
     "metadata": {},
     "output_type": "execute_result"
    }
   ],
   "source": [
    "g"
   ]
  },
  {
   "cell_type": "code",
   "execution_count": null,
   "id": "32fd8163-5599-45d2-9140-b1eb596d3c29",
   "metadata": {},
   "outputs": [],
   "source": []
  }
 ],
 "metadata": {
  "kernelspec": {
   "display_name": "work-main",
   "language": "python",
   "name": "work-main"
  },
  "language_info": {
   "codemirror_mode": {
    "name": "ipython",
    "version": 3
   },
   "file_extension": ".py",
   "mimetype": "text/x-python",
   "name": "python",
   "nbconvert_exporter": "python",
   "pygments_lexer": "ipython3",
   "version": "3.10.0"
  }
 },
 "nbformat": 4,
 "nbformat_minor": 5
}
