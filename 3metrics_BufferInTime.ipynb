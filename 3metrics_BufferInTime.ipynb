{
 "cells": [
  {
   "cell_type": "code",
   "execution_count": 1,
   "id": "bf99ceb7",
   "metadata": {},
   "outputs": [],
   "source": [
    "import numpy as np\n",
    "import xarray as xr\n",
    "from tqdm import tqdm\n",
    "import scipy.ndimage as snd"
   ]
  },
  {
   "cell_type": "code",
   "execution_count": 2,
   "id": "98830823",
   "metadata": {},
   "outputs": [],
   "source": [
    "path = './'"
   ]
  },
  {
   "cell_type": "code",
   "execution_count": 6,
   "id": "fbc64827",
   "metadata": {},
   "outputs": [],
   "source": [
    "frt_dat = xr.open_dataset(path+'gradEPT_Frontal_percentile.nc')\n",
    "\n",
    "# select the largest score from surrounding grid points and times\n",
    "# We don't need to worry about scores in the edges, spatially because there are no extreme events there.\n",
    "# we do need to worry about the first and last time step\n",
    "\n",
    "frt_buffer = snd.maximum_filter(frt_dat['gradEPT_percentile_AboveMedian'],size=(3,3,3),mode='constant',cval=0.)\n",
    "frt_dat['gradEPT_percentile_AboveMedian_Buffer3x3x3'] = (['time','latitude','longitude'],frt_buffer)\n",
    "frt_dat.to_netcdf(path+'gradEPT_Frontal_percentile-buffer.nc',mode='w')\n",
    "frt_dat.close()\n",
    "del frt_buffer"
   ]
  },
  {
   "cell_type": "code",
   "execution_count": null,
   "id": "a805a8b1",
   "metadata": {},
   "outputs": [],
   "source": [
    "vrt_dat = xr.open_dataset(path+'PositiveRelativeVorticityAdvection_Percentile.nc')\n",
    "\n",
    "# select the largest score from surrounding grid points and times\n",
    "# We don't need to worry about scores in the edges, spatially because there are no extreme events there.\n",
    "# we do need to worry about the first and last time step\n",
    "\n",
    "vrt_buffer = snd.maximum_filter(vrt_dat['PositiveRelativeVorticityAdvection_Percentile'],size=(3,3,3),mode='constant',cval=0.)\n",
    "vrt_dat['PositiveRelativeVorticityAdvection_Percentile_Buffer3x3x3'] = (['time','latitude','longitude'],vrt_buffer)\n",
    "vrt_dat.to_netcdf(path+'PositiveRelativeVorticityAdvection_Percentile-buffer.nc',mode='w')\n",
    "vrt_dat.close()\n",
    "del vrt_buffer\n",
    "\n"
   ]
  },
  {
   "cell_type": "code",
   "execution_count": null,
   "id": "cf9edd1e",
   "metadata": {},
   "outputs": [],
   "source": [
    "vrt_dat = xr.open_dataset(path+'PositiveTotalVorticityAdvection_Percentile.nc')\n",
    "\n",
    "# select the largest score from surrounding grid points and times\n",
    "# We don't need to worry about scores in the edges, spatially because there are no extreme events there.\n",
    "# we do need to worry about the first and last time step\n",
    "\n",
    "vrt_buffer = snd.maximum_filter(vrt_dat['PositiveTotalVorticityAdvection_Percentile'],size=(3,3,3),mode='constant',cval=0.)\n",
    "vrt_dat['PositiveTotalVorticityAdvection_Percentile_Buffer3x3x3'] = (['time','latitude','longitude'],vrt_buffer)\n",
    "vrt_dat.to_netcdf(path+'PositiveTotalVorticityAdvection_Percentile-buffer.nc',mode='w')\n",
    "vrt_dat.close()\n",
    "del vrt_buffer"
   ]
  },
  {
   "cell_type": "code",
   "execution_count": null,
   "id": "2955fd5e",
   "metadata": {},
   "outputs": [],
   "source": []
  }
 ],
 "metadata": {
  "kernelspec": {
   "display_name": "Python 3 (ipykernel)",
   "language": "python",
   "name": "python3"
  },
  "language_info": {
   "codemirror_mode": {
    "name": "ipython",
    "version": 3
   },
   "file_extension": ".py",
   "mimetype": "text/x-python",
   "name": "python",
   "nbconvert_exporter": "python",
   "pygments_lexer": "ipython3",
   "version": "3.9.7"
  }
 },
 "nbformat": 4,
 "nbformat_minor": 5
}
