{
 "cells": [
  {
   "cell_type": "code",
   "execution_count": 4,
   "id": "c0c8e632-2c60-45ff-9648-381ac6bc031d",
   "metadata": {},
   "outputs": [],
   "source": [
    "import numpy as np\n",
    "import xarray as xr\n",
    "from tqdm import tqdm\n",
    "import scipy.ndimage as snd"
   ]
  },
  {
   "cell_type": "code",
   "execution_count": 2,
   "id": "66120137-00d4-4a68-b285-5f76d70aae89",
   "metadata": {},
   "outputs": [],
   "source": [
    "path = './'"
   ]
  },
  {
   "cell_type": "code",
   "execution_count": 13,
   "id": "d738191e-696a-47ca-bbff-9be1ed9711f3",
   "metadata": {},
   "outputs": [],
   "source": [
    "frt_dat = xr.open_dataset(path+'gradEPT_Frontal_percentile.nc')\n",
    "\n",
    "# select the largest score from surrounding grid points and times\n",
    "# We don't need to worry about scores in the edges, spatially because there are no extreme events there.\n",
    "# we do need to worry about the first and last time step\n",
    "\n",
    "frt_buffer = snd.maximum_filter(frt_dat['gradEPT_percentile_AboveMedian'],size=(3,3,3),mode='constant',cval=0.)\n",
    "frt_dat['gradEPT_percentile_AboveMedian_Buffer3x3x3'] = frt_buffer\n",
    "frt_dat.to_netcdf(path+'gradEPT_Frontal_percentile.nc',mode='a')\n",
    "frt_dat.close()\n",
    "del frt_buffer"
   ]
  },
  {
   "cell_type": "code",
   "execution_count": 10,
   "id": "222a056d-1f6a-4578-9e0a-75124877d30f",
   "metadata": {},
   "outputs": [
    {
     "name": "stdout",
     "output_type": "stream",
     "text": [
      "[[[0. 0. 0.]\n",
      "  [0. 0. 0.]\n",
      "  [0. 0. 0.]]\n",
      "\n",
      " [[0. 0. 0.]\n",
      "  [0. 1. 0.]\n",
      "  [0. 0. 0.]]\n",
      "\n",
      " [[0. 0. 0.]\n",
      "  [0. 0. 0.]\n",
      "  [0. 0. 0.]]]\n"
     ]
    }
   ],
   "source": [
    "vrt_dat = xr.open_dataset(path+'PositiveRelativeVorticityAdvection_Percentile.nc')\n",
    "\n",
    "# select the largest score from surrounding grid points and times\n",
    "# We don't need to worry about scores in the edges, spatially because there are no extreme events there.\n",
    "# we do need to worry about the first and last time step\n",
    "\n",
    "vrt_buffer = snd.maximum_filter(vrt_dat['PositiveRelativeVorticityAdvection_Percentile'],size=(3,3,3),mode='constant',cval=0.)\n",
    "vrt_dat['PositiveRelativeVorticityAdvection_Percentile_Buffer3x3x3'] = vrt_buffer\n",
    "vrt_dat.to_netcdf(path+'PositiveRelativeVorticityAdvection_Percentile.nc',mode='a')\n",
    "vrt_dat.close()\n",
    "del vrt_buffer\n",
    "\n"
   ]
  },
  {
   "cell_type": "code",
   "execution_count": null,
   "id": "19bf0eb8-061c-4880-a51b-ef342959e211",
   "metadata": {},
   "outputs": [],
   "source": [
    "vrt_dat = xr.open_dataset(path+'PositiveTotalVorticityAdvection_Percentile.nc')\n",
    "\n",
    "# select the largest score from surrounding grid points and times\n",
    "# We don't need to worry about scores in the edges, spatially because there are no extreme events there.\n",
    "# we do need to worry about the first and last time step\n",
    "\n",
    "vrt_buffer = snd.maximum_filter(vrt_dat['PositiveTotalVorticityAdvection_Percentile'],size=(3,3,3),mode='constant',cval=0.)\n",
    "vrt_dat['PositiveTotalVorticityAdvection_Percentile_Buffer3x3x3'] = vrt_buffer\n",
    "vrt_dat.to_netcdf(path+'PositiveTotalVorticityAdvection_Percentile.nc',mode='a')\n",
    "vrt_dat.close()\n",
    "del vrt_buffer"
   ]
  }
 ],
 "metadata": {
  "kernelspec": {
   "display_name": "work-main",
   "language": "python",
   "name": "work-main"
  },
  "language_info": {
   "codemirror_mode": {
    "name": "ipython",
    "version": 3
   },
   "file_extension": ".py",
   "mimetype": "text/x-python",
   "name": "python",
   "nbconvert_exporter": "python",
   "pygments_lexer": "ipython3",
   "version": "3.10.0"
  }
 },
 "nbformat": 4,
 "nbformat_minor": 5
}
