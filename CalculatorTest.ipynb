{
 "cells": [
  {
   "cell_type": "code",
   "execution_count": 1,
   "metadata": {},
   "outputs": [],
   "source": [
    "import MetricCalculatorFunctions as mcf\n",
    "import numpy as np\n",
    "import xarray as xr\n",
    "import metpy.calc as mpcalc\n",
    "import metpy.constants as mpconstants\n",
    "import metpy\n",
    "from metpy.units import units\n",
    "from tqdm import tqdm"
   ]
  },
  {
   "cell_type": "code",
   "execution_count": 2,
   "metadata": {},
   "outputs": [],
   "source": [
    "y1 = 1979\n",
    "y2 = 2010\n",
    "\n",
    "hours=3\n",
    "\n",
    "level = 850\n",
    "\n",
    "T = xr.open_mfdataset('/home/swenson/era5_data_direct_1.0degree_Version3/Temperature_'+str(level)+'hPa/*.nc',concat_dim='time',combine='by_coords')\n",
    "T = T.resample(time=str(hours)+\"H\").nearest()\n",
    "SPH = xr.open_mfdataset('/home/swenson/era5_data_direct_1.0degree_Version3/specific_humidity_'+str(level)+'hPa/*.nc',concat_dim='time',combine='by_coords')\n",
    "SPH = SPH.resample(time=str(hours)+\"H\").nearest()"
   ]
  },
  {
   "cell_type": "code",
   "execution_count": 3,
   "metadata": {},
   "outputs": [],
   "source": [
    "def dummy(sph,T,p):\n",
    "\n",
    "    dewpoint = mpcalc.dewpoint_from_specific_humidity(p, T, sph)\n",
    "#     The warning about RH over 120% seems to just be true?\n",
    "    EQtheta = mpcalc.equivalent_potential_temperature(p, T, dewpoint)\n",
    "\n",
    "    DX,DY = mpcalc.lat_lon_grid_deltas(T['longitude'], T['latitude'], x_dim=- 1, y_dim=- 2, geod=None)\n",
    "    \n",
    "    return dewpoint,EQtheta,DY,DX\n",
    "    \n",
    "#     return mpcalc.gradient(EQtheta,axes=[-2,-1],deltas=[DY,DX])"
   ]
  },
  {
   "cell_type": "code",
   "execution_count": 6,
   "metadata": {},
   "outputs": [
    {
     "name": "stderr",
     "output_type": "stream",
     "text": [
      "/home/swenson/anaconda3/envs/heatwave/lib/python3.6/site-packages/metpy/calc/thermo.py:1022: UserWarning: Relative humidity >120%, ensure proper units.\n",
      "  warnings.warn('Relative humidity >120%, ensure proper units.')\n"
     ]
    }
   ],
   "source": [
    "dewpoint,EQtheta,DY,DX = dummy(SPH['q'],T['t'],level*units('hPa'))"
   ]
  },
  {
   "cell_type": "code",
   "execution_count": 15,
   "metadata": {},
   "outputs": [],
   "source": [
    "dx,dy = mpcalc.lat_lon_grid_deltas(T['longitude'], T['latitude'], x_dim=- 1, y_dim=- 2)\n",
    "ddx = np.broadcast_to(dx,(EQtheta.shape[0],dx.shape[0],dx.shape[1]))\n",
    "ddy = np.broadcast_to(dy,(EQtheta.shape[0],dy.shape[0],dy.shape[1]))"
   ]
  },
  {
   "cell_type": "code",
   "execution_count": 16,
   "metadata": {},
   "outputs": [],
   "source": [
    "a = mpcalc.gradient(EQtheta,axes=[-2,-1],deltas=[ddy,ddx]) #it works needed 3D deltas"
   ]
  },
  {
   "cell_type": "code",
   "execution_count": null,
   "metadata": {},
   "outputs": [],
   "source": [
    "a[0]"
   ]
  },
  {
   "cell_type": "code",
   "execution_count": 12,
   "metadata": {},
   "outputs": [
    {
     "data": {
      "text/plain": [
       "(30, 69)"
      ]
     },
     "execution_count": 12,
     "metadata": {},
     "output_type": "execute_result"
    }
   ],
   "source": [
    "dx.shape"
   ]
  },
  {
   "cell_type": "code",
   "execution_count": 13,
   "metadata": {},
   "outputs": [
    {
     "data": {
      "text/plain": [
       "(29, 70)"
      ]
     },
     "execution_count": 13,
     "metadata": {},
     "output_type": "execute_result"
    }
   ],
   "source": [
    "dy.shape"
   ]
  },
  {
   "cell_type": "code",
   "execution_count": null,
   "metadata": {},
   "outputs": [],
   "source": []
  }
 ],
 "metadata": {
  "kernelspec": {
   "display_name": "heatwave",
   "language": "python",
   "name": "heatwave"
  },
  "language_info": {
   "codemirror_mode": {
    "name": "ipython",
    "version": 3
   },
   "file_extension": ".py",
   "mimetype": "text/x-python",
   "name": "python",
   "nbconvert_exporter": "python",
   "pygments_lexer": "ipython3",
   "version": "3.6.13"
  }
 },
 "nbformat": 4,
 "nbformat_minor": 4
}
