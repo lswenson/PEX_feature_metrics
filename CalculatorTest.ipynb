{
 "cells": [
  {
   "cell_type": "code",
   "execution_count": null,
   "metadata": {},
   "outputs": [
    {
     "name": "stderr",
     "output_type": "stream",
     "text": [
      " 15%|█▍        | 15/101 [01:04<06:11,  4.32s/it]"
     ]
    }
   ],
   "source": [
    "import MetricCalculatorFunctions as mcf\n",
    "import numpy as np\n",
    "import xarray as xr\n",
    "import metpy.calc as mpcalc\n",
    "import metpy.constants as mpconstants\n",
    "import metpy\n",
    "from metpy.units import units\n",
    "from tqdm import tqdm\n",
    "\n",
    "hours = 3\n",
    "dt = hours*60*60\n",
    "\n",
    "CAPE = xr.open_mfdataset('/home/swenson/era5_data_direct_1.0degree_Version3/cape/*.nc',concat_dim='time',combine='by_coords')\n",
    "CAPE = CAPE.resample(time=str(hours)+'H').nearest()\n",
    "\n",
    "ddt = mcf.dCAPEdt(CAPE['cape'],dt)\n",
    "\n",
    "# mask positive ddt values (CAPE Generation isn't interesting)\n",
    "NEGddt = np.where(ddt[0].magnitude<=0,ddt[0],np.nan)\n",
    "\n",
    "# run nanpercenitle on the masked ddt array\n",
    "PERddt = np.zeros((101,CAPE['cape'].shape[-2],CAPE['cape'].shape[-1]))\n",
    "for p in tqdm(range(101)):\n",
    "    PERddt[p,:,:] = np.nanpercentile(-1*NEGddt,q=p,axis=0)\n",
    "\n",
    "# make a time,lat,lon array of the negative dCAPEdt percentile values.\n",
    "THEmetric = np.zeros(NEGddt.shape)\n",
    "for p in tqdm(range(1,101)):\n",
    "    THEmetric = np.where(-1*NEGddt.magnitude>np.broadcast_to(PERddt[p,:,:],NEGddt.shape),PERddt[p,:,:],THEmetric)\n",
    "\n",
    "coords = dict(\n",
    "\n",
    "    time = (['time'],CAPE['time']),\n",
    "    latitude = (['latitude'],CAPE['latitude']),\n",
    "    longitude = (['longitude'],CAPE['longitude'])\n",
    "\n",
    ")\n",
    "\n",
    "data_vars=dict(\n",
    "\n",
    "    CAPE_consumption_percentile = (['time','latitude','longitude'], THEmetric)\n",
    "\n",
    "    )\n",
    "\n",
    "plot_var_out = xr.Dataset(\n",
    "\n",
    "    data_vars=data_vars,\n",
    "    coords=coords,\n",
    "\n",
    "    )\n",
    "\n",
    "plot_var_out.to_netcdf('/home/swenson/projects/PEX_feature_metrics/CAPE_consumption_percentile.nc',mode='w')\n",
    "\n",
    "print('DONE')"
   ]
  },
  {
   "cell_type": "code",
   "execution_count": null,
   "metadata": {},
   "outputs": [],
   "source": [
    "# a = mpcalc.gradient(CAPE['cape'],axes=[0],deltas=[dt])"
   ]
  },
  {
   "cell_type": "code",
   "execution_count": null,
   "metadata": {},
   "outputs": [],
   "source": [
    "# type(a[0])"
   ]
  },
  {
   "cell_type": "code",
   "execution_count": null,
   "metadata": {},
   "outputs": [],
   "source": []
  },
  {
   "cell_type": "code",
   "execution_count": null,
   "metadata": {},
   "outputs": [],
   "source": []
  },
  {
   "cell_type": "code",
   "execution_count": null,
   "metadata": {},
   "outputs": [],
   "source": []
  }
 ],
 "metadata": {
  "kernelspec": {
   "display_name": "heatwave",
   "language": "python",
   "name": "heatwave"
  },
  "language_info": {
   "codemirror_mode": {
    "name": "ipython",
    "version": 3
   },
   "file_extension": ".py",
   "mimetype": "text/x-python",
   "name": "python",
   "nbconvert_exporter": "python",
   "pygments_lexer": "ipython3",
   "version": "3.6.13"
  }
 },
 "nbformat": 4,
 "nbformat_minor": 4
}
