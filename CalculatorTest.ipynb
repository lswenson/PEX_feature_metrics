{
 "cells": [
  {
   "cell_type": "code",
   "execution_count": 1,
   "metadata": {},
   "outputs": [
    {
     "name": "stderr",
     "output_type": "stream",
     "text": [
      "/home/swenson/anaconda3/envs/heatwave/lib/python3.6/site-packages/metpy/xarray.py:1472: UserWarning: Vertical dimension number not found. Defaulting to (..., Z, Y, X) order.\n",
      "  'Vertical dimension number not found. Defaulting to (..., Z, Y, X) order.'\n",
      "100%|██████████| 101/101 [07:40<00:00,  4.56s/it]\n",
      "100%|██████████| 100/100 [10:07<00:00,  6.07s/it]\n"
     ]
    },
    {
     "name": "stdout",
     "output_type": "stream",
     "text": [
      "DONE\n"
     ]
    }
   ],
   "source": [
    "import MetricCalculatorFunctions as mcf\n",
    "import numpy as np\n",
    "import xarray as xr\n",
    "import metpy.calc as mpcalc\n",
    "import metpy.constants as mpconstants\n",
    "import metpy\n",
    "from metpy.units import units\n",
    "from tqdm import tqdm\n",
    "\n",
    "hours = 3\n",
    "\n",
    "level = 500\n",
    "\n",
    "RelVort = xr.open_mfdataset('/home/swenson/era5_data_direct_1.0degree_Version3/Vorticity_'+str(level)+'hPa/*.nc',concat_dim='time',combine='by_coords')\n",
    "RelVort = RelVort.resample(time=str(hours)+'H').nearest()\n",
    "U = xr.open_mfdataset('/home/swenson/era5_data_direct_1.0degree_Version3/U_'+str(level)+'hPa/*.nc',concat_dim='time',combine='by_coords')\n",
    "U = U.resample(time=str(hours)+'H').nearest()\n",
    "V = xr.open_mfdataset('/home/swenson/era5_data_direct_1.0degree_Version3/V_'+str(level)+'hPa/*.nc',concat_dim='time',combine='by_coords')\n",
    "V = V.resample(time=str(hours)+'H').nearest()\n",
    "\n",
    "RelVortAdv = mcf.RelativeVorticityAdvection(RelVort['vo'],U['u'],V['v'])\n",
    "\n",
    "RelVortAdv_mask = np.where(RelVortAdv>=0,RelVortAdv,np.nan)\n",
    "\n",
    "# run nanpercenitle on the masked RelVortAdv array\n",
    "PER = np.zeros((101,RelVortAdv.shape[-2],RelVortAdv.shape[-1]))\n",
    "for p in tqdm(range(101)):\n",
    "    PER[p,:,:] = np.nanpercentile(RelVortAdv_mask,q=p,axis=0)\n",
    "\n",
    "# make a time,lat,lon array of the positive RelVortAdv percentile values.\n",
    "THEmetric = np.zeros(RelVortAdv.shape)\n",
    "for p in tqdm(range(1,101)):\n",
    "    THEmetric = np.where(RelVortAdv.values>np.broadcast_to(PER[p,:,:],RelVortAdv.shape),PER[p,:,:],THEmetric)\n",
    "\n",
    "coords = dict(\n",
    "\n",
    "    time = (['time'],U['time']),\n",
    "    latitude = (['latitude'],U['latitude']),\n",
    "    longitude = (['longitude'],U['longitude'])\n",
    "\n",
    ")\n",
    "\n",
    "data_vars=dict(\n",
    "\n",
    "    PositiveRelativeVorticityAdvection_Percentile = (['time','latitude','longitude'], THEmetric)\n",
    "\n",
    "    )\n",
    "\n",
    "plot_var_out = xr.Dataset(\n",
    "\n",
    "    data_vars=data_vars,\n",
    "    coords=coords,\n",
    "\n",
    "    )\n",
    "\n",
    "plot_var_out.to_netcdf('/home/swenson/projects/PEX_feature_metrics/PositiveRelativeVorticityAdvection_Percentile.nc',mode='w')\n",
    "\n",
    "print('DONE')"
   ]
  },
  {
   "cell_type": "code",
   "execution_count": 2,
   "metadata": {},
   "outputs": [],
   "source": [
    "# a = mpcalc.gradient(CAPE['cape'],axes=[0],deltas=[dt])"
   ]
  },
  {
   "cell_type": "code",
   "execution_count": 3,
   "metadata": {},
   "outputs": [],
   "source": [
    "# type(a[0])"
   ]
  },
  {
   "cell_type": "code",
   "execution_count": 4,
   "metadata": {},
   "outputs": [
    {
     "data": {
      "text/plain": [
       "numpy.ndarray"
      ]
     },
     "execution_count": 4,
     "metadata": {},
     "output_type": "execute_result"
    }
   ],
   "source": [
    "type(RelVortAdv.values)"
   ]
  },
  {
   "cell_type": "code",
   "execution_count": null,
   "metadata": {},
   "outputs": [],
   "source": []
  },
  {
   "cell_type": "code",
   "execution_count": null,
   "metadata": {},
   "outputs": [],
   "source": []
  }
 ],
 "metadata": {
  "kernelspec": {
   "display_name": "heatwave",
   "language": "python",
   "name": "heatwave"
  },
  "language_info": {
   "codemirror_mode": {
    "name": "ipython",
    "version": 3
   },
   "file_extension": ".py",
   "mimetype": "text/x-python",
   "name": "python",
   "nbconvert_exporter": "python",
   "pygments_lexer": "ipython3",
   "version": "3.6.13"
  }
 },
 "nbformat": 4,
 "nbformat_minor": 4
}
