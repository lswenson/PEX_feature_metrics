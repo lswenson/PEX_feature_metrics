{
 "cells": [
  {
   "cell_type": "code",
   "execution_count": 1,
   "id": "a232f79d-51e2-4c8e-9a6f-f096d78d1e50",
   "metadata": {},
   "outputs": [
    {
     "name": "stderr",
     "output_type": "stream",
     "text": [
      "100%|█████████████████████████████████████████████| 8/8 [00:19<00:00,  2.46s/it]"
     ]
    },
    {
     "name": "stdout",
     "output_type": "stream",
     "text": [
      "DONE\n"
     ]
    },
    {
     "name": "stderr",
     "output_type": "stream",
     "text": [
      "\n"
     ]
    }
   ],
   "source": [
    "import numpy as np\n",
    "import xarray as xr\n",
    "from tqdm import tqdm\n",
    "\n",
    "pcip_path = '/Users/leifswenson/Documents/Projects/Code/Data/'\n",
    "flist = []\n",
    "for year in tqdm(range(2003,2011)):\n",
    "    pcip = xr.open_dataset(pcip_path+'ERA5_'+str(year)+'_tp.nc')\n",
    "\n",
    "    pcip1 = pcip.resample(time='3H').sum()\n",
    "\n",
    "    WetDays = np.where(pcip1['tp']>0.001/8,pcip1['tp'],np.nan)\n",
    "\n",
    "    pcip1['WetDays_lt_125e-6'] = (['time','latitude','longitude'], WetDays)\n",
    "\n",
    "    pcip1.to_netcdf(pcip_path+'ERA5_'+str(year)+'_tp_3H.nc')\n",
    "\n",
    "print(\"DONE\")\n"
   ]
  },
  {
   "cell_type": "code",
   "execution_count": null,
   "id": "213a0297-f224-42d4-bdcf-c9e4db9b0933",
   "metadata": {},
   "outputs": [],
   "source": []
  }
 ],
 "metadata": {
  "kernelspec": {
   "display_name": "work-main",
   "language": "python",
   "name": "work-main"
  },
  "language_info": {
   "codemirror_mode": {
    "name": "ipython",
    "version": 3
   },
   "file_extension": ".py",
   "mimetype": "text/x-python",
   "name": "python",
   "nbconvert_exporter": "python",
   "pygments_lexer": "ipython3",
   "version": "3.10.0"
  }
 },
 "nbformat": 4,
 "nbformat_minor": 5
}
