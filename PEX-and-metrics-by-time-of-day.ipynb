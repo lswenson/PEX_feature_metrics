{
 "cells": [
  {
   "cell_type": "code",
   "execution_count": 1,
   "metadata": {},
   "outputs": [],
   "source": [
    "import numpy as np\n",
    "import xarray as xr\n",
    "import metpy.calc as mpcalc\n",
    "import metpy.constants as mpconstants\n",
    "import metpy\n",
    "from metpy.units import units\n",
    "import matplotlib.pyplot as plt\n",
    "import matplotlib as mpl\n",
    "import cartopy.crs as ccrs\n",
    "import cartopy.feature as cfeature\n",
    "from tqdm import tqdm\n",
    "import pandas as pd"
   ]
  },
  {
   "cell_type": "code",
   "execution_count": 2,
   "metadata": {},
   "outputs": [],
   "source": [
    "nmap = np.load(\"/home/swenson/projects/AGU2020/SOM_Zones/ERA5_1deg_regions7_EdgesRemoved.npy\")"
   ]
  },
  {
   "cell_type": "code",
   "execution_count": 3,
   "metadata": {},
   "outputs": [
    {
     "name": "stderr",
     "output_type": "stream",
     "text": [
      "100%|██████████| 31/31 [00:00<00:00, 94562.49it/s]\n"
     ]
    }
   ],
   "source": [
    "pcip_path = '/home/swenson/era5_data_direct_1.0degree_Version3/tp/'\n",
    "flist = []\n",
    "for year in tqdm(range(1980,2011)):\n",
    "    flist.append(pcip_path+'ERA5_'+str(year)+'_tp.nc')\n",
    "pcip_dat = xr.open_mfdataset(flist,concat_dim='time')"
   ]
  },
  {
   "cell_type": "code",
   "execution_count": null,
   "metadata": {},
   "outputs": [],
   "source": [
    "pcip = pcip_dat.resample(time='3H').sum()"
   ]
  },
  {
   "cell_type": "code",
   "execution_count": null,
   "metadata": {},
   "outputs": [],
   "source": [
    "WetDays = np.where(pcip['tp']>0.001,pcip['tp'],np.nan)"
   ]
  },
  {
   "cell_type": "code",
   "execution_count": null,
   "metadata": {},
   "outputs": [],
   "source": [
    "p90 = np.nanpercentile(np.where(pcip['tp']>0.001,pcip['tp'],np.nan),q=90,axis=0)"
   ]
  },
  {
   "cell_type": "code",
   "execution_count": null,
   "metadata": {},
   "outputs": [],
   "source": [
    "path = '/home/swenson/projects/PEX_feature_metrics/'\n",
    "cape_name = 'CAPE_consumption_percentile.nc'\n",
    "front_name = 'gradEPT_Frontal_percentile.nc'\n",
    "vort_name = 'PositiveRelativeVorticityAdvection_Percentile.nc'"
   ]
  },
  {
   "cell_type": "code",
   "execution_count": null,
   "metadata": {},
   "outputs": [],
   "source": [
    "CONVECT = xr.open_dataset(path+cape_name)\n",
    "CAPE_metric = CONVECT['CAPE_consumption_percentile']"
   ]
  },
  {
   "cell_type": "code",
   "execution_count": null,
   "metadata": {},
   "outputs": [],
   "source": [
    "FRONTAL = xr.open_dataset(path+front_name)\n",
    "FRT_metric = FRONTAL['gradEPT_percentile_AboveMedian']"
   ]
  },
  {
   "cell_type": "code",
   "execution_count": null,
   "metadata": {},
   "outputs": [],
   "source": [
    "VORTICAL = xr.open_dataset(path+vort_name)\n",
    "VRT_metric = VORTICAL['PositiveRelativeVorticityAdvection_Percentile']"
   ]
  },
  {
   "cell_type": "code",
   "execution_count": null,
   "metadata": {},
   "outputs": [],
   "source": [
    "CAPE_metric.time"
   ]
  },
  {
   "cell_type": "code",
   "execution_count": null,
   "metadata": {},
   "outputs": [],
   "source": []
  }
 ],
 "metadata": {
  "kernelspec": {
   "display_name": "heatwave",
   "language": "python",
   "name": "heatwave"
  },
  "language_info": {
   "codemirror_mode": {
    "name": "ipython",
    "version": 3
   },
   "file_extension": ".py",
   "mimetype": "text/x-python",
   "name": "python",
   "nbconvert_exporter": "python",
   "pygments_lexer": "ipython3",
   "version": "3.6.13"
  }
 },
 "nbformat": 4,
 "nbformat_minor": 4
}
