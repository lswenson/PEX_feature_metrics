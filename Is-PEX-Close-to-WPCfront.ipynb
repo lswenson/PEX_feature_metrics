{
 "cells": [
  {
   "cell_type": "code",
   "execution_count": 1,
   "id": "87901ce9-0ff0-4b09-9078-f19058165828",
   "metadata": {},
   "outputs": [],
   "source": [
    "import numpy as np\n",
    "import xarray as xr\n",
    "import matplotlib.pyplot as plt\n",
    "import matplotlib as mpl\n",
    "import cartopy.crs as ccrs\n",
    "import cartopy.feature as cfeature\n",
    "import pandas as pd\n",
    "from os import listdir, getcwd\n",
    "from os.path import isfile, join, exists\n",
    "from math import radians,sin\n",
    "from tqdm import tqdm"
   ]
  },
  {
   "cell_type": "code",
   "execution_count": 2,
   "id": "8e6baf58-590a-4f9a-996c-43d68906b438",
   "metadata": {},
   "outputs": [],
   "source": [
    "def great_circle_list(clon,clat,XLON,XLAT):\n",
    "    \"\"\"\n",
    "    clon and clat are the target point (in degrees) to be compared to every point in XLON and XLAT\n",
    "    XLON and XLAT should be the list of points that make up the front\n",
    "    Out put is a list of Great Circle Distances (GCD) from each point to the target point in meters\n",
    "    \"\"\"\n",
    "    rearth = 6371000 #meters\n",
    "    clon,clat = map(radians,[clon,clat])\n",
    "    XLON,XLAT = map(np.radians,[XLON,XLAT])\n",
    "    \n",
    "    return rearth * ( np.arccos(sin(clat) * np.sin(XLAT) + np.cos(clat) * np.cos(XLAT) * np.cos(clon - XLON)) )\n",
    "\n",
    "def GCD_m2deg(GCD):\n",
    "    rearth = 6371000 #meters\n",
    "    return (GCD / (2*np.pi*rearth)) * 360\n",
    "\n",
    "def GCD_deg2m(GCD):\n",
    "    rearth = 6371000 #meters\n",
    "    return (GCD / 360) * (2*np.pi*rearth)\n",
    "\n",
    "def GetFrontCoordinates(lines):\n",
    "    FRONT_coords = []\n",
    "    number = 0\n",
    "    while number < len(lines):\n",
    "        if len(lines[number])<=2:\n",
    "            number+=1\n",
    "        elif lines[number].split()[0] in ['WARM','STNRY','COLD','OCFNT']:\n",
    "            coordlist = [lines[number].split()[0],lines[number].split()[1]]\n",
    "            if lines[number+1][0].isdigit():\n",
    "                front_data = lines[number].split() + lines[number+1].split()\n",
    "                number+=1\n",
    "            else:\n",
    "                front_data = lines[number].split()\n",
    "            for coords in front_data[2:]:\n",
    "                coordlist.append([int(coords[:2]),int(coords[2:])])\n",
    "            FRONT_coords.append(coordlist)\n",
    "            number+=1\n",
    "        else:\n",
    "            number+=1\n",
    "            \n",
    "    return FRONT_coords\n",
    "\n",
    "def ExtractPlotData(frt):\n",
    "    lats = []\n",
    "    lons = []\n",
    "    for co in frt[2:]:\n",
    "        lats.append(co[0])\n",
    "        lons.append(-1*co[1])\n",
    "        \n",
    "    if frt[0] == 'WARM':\n",
    "        typ = 'red'\n",
    "    elif frt[0] == 'STNRY':\n",
    "        typ = 'green'\n",
    "    elif frt[0] == 'COLD':\n",
    "        typ = 'blue'\n",
    "    elif frt[0] == 'OCFNT':\n",
    "        typ = 'violet'\n",
    "        \n",
    "    return lons,lats,typ\n",
    "\n",
    "def GCD_Point2Front_AtTime(clon,clat,frts):\n",
    "    mindist = []\n",
    "    for frt in frts:\n",
    "        lons,lats,_ = ExtractPlotData(frt)\n",
    "        gcds = GCD_m2deg(great_circle_list(clon,clat,np.array(lons),np.array(lats)))\n",
    "        mindist.append(np.min(gcds))\n",
    "        # WHAT IF WE ALSO CHECK THE MID POINTS\n",
    "        mlons = []\n",
    "        mlats = []\n",
    "        for gg in range(len(lons)-1):\n",
    "            mlons.append((lons[gg]+lons[gg+1])/2)\n",
    "            mlats.append((lats[gg]+lats[gg+1])/2)\n",
    "        gcds = GCD_m2deg(great_circle_list(clon,clat,np.array(mlons),np.array(mlats)))\n",
    "        if len(gcds) > 1:\n",
    "            mindist.append(np.min(gcds))\n",
    "        \n",
    "    return min(mindist)"
   ]
  },
  {
   "cell_type": "code",
   "execution_count": 3,
   "id": "7452100d-5bc6-4375-8049-16eb56f946b0",
   "metadata": {},
   "outputs": [
    {
     "name": "stdout",
     "output_type": "stream",
     "text": [
      "<xarray.DataArray 'hour' (time: 2920)>\n",
      "array([ 0,  3,  6, ..., 15, 18, 21])\n",
      "Coordinates:\n",
      "  * time     (time) datetime64[ns] 2009-01-01 ... 2009-12-31T21:00:00\n"
     ]
    }
   ],
   "source": [
    "YEAR = 2009\n",
    "pdat = '../Data/ERA5_'+str(YEAR)+'_tp.nc'\n",
    "pcip = xr.open_dataset(pdat)\n",
    "\n",
    "pcip = pcip['tp'].resample(time='3H').sum()\n",
    "print(pcip['time'].dt.hour)"
   ]
  },
  {
   "cell_type": "code",
   "execution_count": 4,
   "id": "600fa8a6-1b90-40fb-9ad9-85ea54471f2b",
   "metadata": {},
   "outputs": [],
   "source": [
    "percent = np.nanpercentile(np.where(pcip>0,pcip,np.nan),q=95,axis=0)"
   ]
  },
  {
   "cell_type": "code",
   "execution_count": 5,
   "id": "c42b2b73-4b65-4139-930e-7765a896709e",
   "metadata": {},
   "outputs": [],
   "source": [
    "isPEX = np.where(pcip>np.broadcast_to(percent,pcip.shape),1,0)\n",
    "Events,elats,elons = np.where(isPEX==1)"
   ]
  },
  {
   "cell_type": "code",
   "execution_count": 6,
   "id": "ef8b9304-83d7-408a-9062-438d39864095",
   "metadata": {},
   "outputs": [
    {
     "name": "stderr",
     "output_type": "stream",
     "text": [
      "100%|███████████████████████████████████████████████████████████| 306221/306221 [11:58<00:00, 426.33it/s]\n"
     ]
    }
   ],
   "source": [
    "D2F = np.ones(Events.shape) * 999\n",
    "noFront = 0\n",
    "for lm in tqdm(range(len(D2F))):\n",
    "    year = pcip['time'].dt.year.values[Events[lm]]\n",
    "    month= pcip['time'].dt.month.values[Events[lm]]\n",
    "    day= pcip['time'].dt.day.values[Events[lm]]\n",
    "    hour= pcip['time'].dt.hour.values[Events[lm]]\n",
    "    p2f = 'WPC_CODSUS/lores/'+str(year)+'/KWBCCODSUS_'+str(year)+str(month).zfill(2)+str(day).zfill(2)+'_'+str(hour).zfill(2)+'00'\n",
    "    if exists(p2f):\n",
    "        with open(p2f) as f:\n",
    "            lines = f.readlines()\n",
    "        f.close()\n",
    "        FC = GetFrontCoordinates(lines)\n",
    "        if len(FC) == 0:\n",
    "            noFront += 1\n",
    "        else:\n",
    "            D2F[lm] = GCD_Point2Front_AtTime(pcip['longitude'].values[elons[lm]],pcip['latitude'].values[elats[lm]],FC)\n",
    "    else:\n",
    "        noFront += 1\n",
    "        continue\n"
   ]
  },
  {
   "cell_type": "code",
   "execution_count": 7,
   "id": "9c70bb73-119c-49c2-b1ed-f5aff66cf302",
   "metadata": {},
   "outputs": [
    {
     "data": {
      "text/plain": [
       "0.6522184957922547"
      ]
     },
     "execution_count": 7,
     "metadata": {},
     "output_type": "execute_result"
    }
   ],
   "source": [
    "(len(np.where(D2F<=5)[0]) / len(D2F))"
   ]
  },
  {
   "cell_type": "code",
   "execution_count": null,
   "id": "8e52b1cb-145b-488b-a26d-92e7460c30bd",
   "metadata": {},
   "outputs": [],
   "source": []
  }
 ],
 "metadata": {
  "kernelspec": {
   "display_name": "work-main",
   "language": "python",
   "name": "work-main"
  },
  "language_info": {
   "codemirror_mode": {
    "name": "ipython",
    "version": 3
   },
   "file_extension": ".py",
   "mimetype": "text/x-python",
   "name": "python",
   "nbconvert_exporter": "python",
   "pygments_lexer": "ipython3",
   "version": "3.10.0"
  }
 },
 "nbformat": 4,
 "nbformat_minor": 5
}
